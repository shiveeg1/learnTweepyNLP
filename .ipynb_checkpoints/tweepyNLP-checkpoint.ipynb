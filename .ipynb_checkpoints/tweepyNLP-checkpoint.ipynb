{
 "cells": [
  {
   "cell_type": "markdown",
   "metadata": {},
   "source": [
    "## Collect Tweets from Twitter Streaming API\n",
    "- We use Tweepy to get the tweets. We can use the Streaming API to get a live stream if it's a hot topic\n",
    "- We just unescape the html for easy readability\n",
    "- We print the tweets\n",
    "- We have turned on Rate limit wait and warning.\n",
    "- Fetching too many tweets at once will cause a delay and display message when limit is exceeded.\n",
    "- After limit refresh the code will continue to fetch more tweets"
   ]
  },
  {
   "cell_type": "code",
   "execution_count": 90,
   "metadata": {},
   "outputs": [],
   "source": [
    "import tweepy\n",
    "import html"
   ]
  },
  {
   "cell_type": "code",
   "execution_count": 91,
   "metadata": {},
   "outputs": [],
   "source": [
    "from config import CONSUMER_KEY,CONSUMER_SECRET, ACCESS_TOKEN, ACCESS_TOKEN_SECRET"
   ]
  },
  {
   "cell_type": "code",
   "execution_count": 92,
   "metadata": {},
   "outputs": [],
   "source": [
    "auth = tweepy.OAuthHandler(CONSUMER_KEY, CONSUMER_SECRET)\n",
    "auth.set_access_token(ACCESS_TOKEN, ACCESS_TOKEN_SECRET)"
   ]
  },
  {
   "cell_type": "code",
   "execution_count": 93,
   "metadata": {},
   "outputs": [],
   "source": [
    "api = tweepy.API(auth, wait_on_rate_limit=True, wait_on_rate_limit_notify=True)"
   ]
  },
  {
   "cell_type": "code",
   "execution_count": 88,
   "metadata": {},
   "outputs": [],
   "source": [
    "tweets = []\n",
    "for tweet in tweepy.Cursor(api.search, q = \"healthcare OR #healthcare\", lang = \"en\", tweet_mode = \"extended\").items(100):\n",
    "    tweets.append(tweet)"
   ]
  },
  {
   "cell_type": "code",
   "execution_count": 89,
   "metadata": {},
   "outputs": [
    {
     "name": "stdout",
     "output_type": "stream",
     "text": [
      "The American Healthcare System https://t.co/TEk3HoWhzh\n",
      "2010-2018 Tory cuts for the poorest 95%\n",
      "Schools\n",
      "Healthcare\n",
      "Social Care\n",
      "Roads\n",
      "Police\n",
      "Military\n",
      "Fire Service\n",
      "Border Checks\n",
      "Public Sector Wages\n",
      "Disabilty Benefits\n",
      "Women's Refuge\n",
      "Sure Start Centres\n",
      "\n",
      "2010-2018 Tory cuts for the richest 5%\n",
      "Higher rate tax\n",
      "Corporation tax\n",
      "\n",
      "#VoteLabour\n",
      "Monaghan needs your vote. 15 people travelled from Monaghan to the UK to access safe healthcare in 2016, Please support @monaghan4choice  and get involved - OR if you are abroad & eligible, make the trip #HOMETOVOTE for the removal of the 8th amendment. #Together4YES https://t.co/PdADDnEyBe\n",
      "The fact that an 11-year-old has to do this for her mother just so she can afford healthcare is not “heartwarming”... it’s a product of the system we live in and it’s despicable. https://t.co/AY9T0BUaES\n",
      "Missed your chance to participate in the #Shivom Presale but still want to be a significant part of the biggest healthcare revolution!!. Just 1 day remaining for the Shivom Main Sale to begin and so is your last chance to buy #Omix tokens. Register now on https://t.co/Y7xEZyPfnH https://t.co/oVweTJOfLn\n",
      "If Trump was \"physically fit for office\", there would be no reason for Trump to dictate his own glowing healthcare report.\n",
      "The wording alone should have been obvious to all of us.\n",
      "\n",
      "This makes us ask ourselves, as a country...What is so bad that Trump has to lie about his health?\n",
      "Can we agree that this is not the world's best healthcare system? https://t.co/haUuq0MnKB\n",
      "Dems, it will be up to us to reverse the $1.5 trillion tax cut ( #taxscam ). It will be up to us to do something about #climatechange and it will be up to us to fix healthcare once and for all. Get ready, its going to be a fight. #NeverEverTrustaRepublican\n",
      "The fact that an 11-year-old has to do this for her mother just so she can afford healthcare is not “heartwarming”... it’s a product of the system we live in and it’s despicable. https://t.co/AY9T0BUaES\n",
      "Better health through better technology\n",
      "#IIOT #BigData #datascience #saas #startups #Chatbot #IoT #AI #data #UX #BlockChain #MachineLearning #ML #innovation #Analytics #SocialMedia #Marketing #Business #AI #Mgvip #makeyourownlane #defstar5 #wearables #health #healthcare #track https://t.co/sm3lWMWk4B\n",
      "Help Desk Tech II - Stormont-Vail HealthCare - Topeka, KS https://t.co/b0Y6Ai0Z5x\n",
      "$MDXL MediXall Group to Attend the HLTH: The Future of Healthcare Conference in Las Vegas OTC Markets:MDXL https://t.co/Lo9NFKbvqK\n",
      "The fact that an 11-year-old has to do this for her mother just so she can afford healthcare is not “heartwarming”... it’s a product of the system we live in and it’s despicable. https://t.co/AY9T0BUaES\n",
      "When we push for #healthcare to be at the top of the political agenda, we must be prepared to make the hard-headed business case for investment.\n",
      "#NMAAGC2018 #Health4All\n",
      "Poll finds 4M lost health insurance in last two years https://t.co/2r7YyARJTJ\n",
      "When one-for-one isn't enough, WELL takes the approach of one-for-many. To find out how you can take part in the global healthcare revolution, join our telegram group at https://t.co/Dfn40qr8su https://t.co/aT4vjdTDm6\n",
      "- Physician / Academic / Texas / Permanent / Dallas/Ft. Worth Metroplex: NEED Department Chair of F... - NEED Departmen https://t.co/AxQZexcQiN #HEALTHCARE #HOSPITAL\n",
      "Hey @jimmykimmel why did you demagogue the national conversation to advocate for socialized healthcare when it came to your son, but you remain shockingly silent when socialized medicine killed Alfie Evans? 🤔\n",
      "Cos transpeople's women's healthcare would involve prostates and gonads and not much breast, ovarian and uterine cancer, maybe...? Maybe? And may therefore be best covered in men's healthcare? No...? https://t.co/xO08XeNoU4\n",
      "The Blockchain Effect On Healthcare: How #Blockchain Will Transform Heal... https://t.co/Z0bIZx5DcM\n",
      "I'm back at work today after almost 8 months on medical leave. My employer @Docker supported me well beyond what they had to, and I'm grateful for that. Having fun at work with cool technology is great, but having an employer that cares about healthcare and life issues is best.\n",
      "Community Health Leaders Share Their Progress on Integrating SDoH Data into Healthcare https://t.co/yp4GOBGdi3 #SDoH https://t.co/IwthgfhH3g\n",
      "The fact that an 11-year-old has to do this for her mother just so she can afford healthcare is not “heartwarming”... it’s a product of the system we live in and it’s despicable. https://t.co/AY9T0BUaES\n",
      "When an #IllegalAlien steals their way into the U.S. they get rewarded with free healthcare but our #veterans get put on a waiting list. WRONG. I will work with @potus to end the debacle in the VA and fight to put #VeteransFirst and #AmericaFirst\n",
      "@David19531501 @bluemanc100 @jjasq @joerichlaw @johnjohnstonmi Sure, just like healthcare in Britain today.. Why wouldn't you move over there and enjoy... What they have now, is very close to what we had in the USSR then. I'm sure you'll be happy...\n",
      "#ImaginetheImpact when Nigeria tackles health with the same vigour and urgency as it currently does with security. Improved healthcare should be our greatest priority. - @ToyinSaraki #IDM2018 #HealthForAll @WHOAFRO @world_midwives @GatesAfrica @UN_EWEC @NphcdaNG https://t.co/WJphlAIfkN\n",
      "In making the case to political leaders and the people, we must point out that successful economies are built on the good health of its citizens.\n",
      "#NMAAGC2018 #Health4All #Healthcare https://t.co/eNCsP3k3vr\n",
      "We wouldn't be getting recognition like this without our great employees. https://t.co/CEgOWmNE6s\n",
      "There are nearly 4,700 #LifeScience and #Healthcare firms located in #OaklandCounty that employ more than 100,000 people. Learn more here: https://t.co/bToOaGwBzq @AdvantageOak\n",
      "I love talking to people outside the U.S. about our healthcare system. I feel like the world’s most depressing magician. “Wait, where did the money go?” “Nobody knows…MWAHAHAHAHA!”\n",
      "The fact that an 11-year-old has to do this for her mother just so she can afford healthcare is not “heartwarming”... it’s a product of the system we live in and it’s despicable. https://t.co/AY9T0BUaES\n",
      "GREAT REASON TO VOTE DEMOCRATS 2018....healthcare, medicare and keeping our Social Security!!!!! https://t.co/iKdHD3qyn3\n",
      "My fav application of #Ethereum is probably in the world of healthcare. Imagine that your smart watch records are auto-shared w. every hospital in the world. Patterns could be found in medical conditions & you could be warned before it even happens. Ethereum might save your life! https://t.co/M1SBSDbIF0\n",
      "The fact that an 11-year-old has to do this for her mother just so she can afford healthcare is not “heartwarming”... it’s a product of the system we live in and it’s despicable. https://t.co/AY9T0BUaES\n",
      ".@PatrickMcHenry kicks out a constituent advocating for her child while he votes to steal your healthcare.\n",
      "\n",
      "#WeddingWednesday if you vote against someone’s ability to receive healthcare you don’t represent the best interests of your constituents.\n",
      "\n",
      "3/3\n",
      "\n",
      "https://t.co/iN2X2AjAfE\n",
      "The fact that an 11-year-old has to do this for her mother just so she can afford healthcare is not “heartwarming”... it’s a product of the system we live in and it’s despicable. https://t.co/AY9T0BUaES\n",
      ".@Atul_Gawande: How to improve #healthcare when the industry is 'a freaking mess' and progress is an 'uphill battle' https://t.co/NZ7E6PJllq\n",
      "Accelerate your #Healthcare #Reimbursement with Clean #Claim ! How? Read it here https://t.co/SY7C68wePO\n",
      "The fact that an 11-year-old has to do this for her mother just so she can afford healthcare is not “heartwarming”... it’s a product of the system we live in and it’s despicable. https://t.co/AY9T0BUaES\n",
      "The fact that an 11-year-old has to do this for her mother just so she can afford healthcare is not “heartwarming”... it’s a product of the system we live in and it’s despicable. https://t.co/AY9T0BUaES\n",
      "Hey @jimmykimmel why did you demagogue the national conversation to advocate for socialized healthcare when it came to your son, but you remain shockingly silent when socialized medicine killed Alfie Evans? 🤔\n",
      "This is a legacy that everyone in @GOP is part of.  You can't be co-conspirators, silent supporters, enablers, or take money from healthcare and give it to rich people and then claim you're a good person later.  There is no excuse for that.  That stink doesn't wash off. https://t.co/3oAAzBkBdB\n",
      "- Orthopaedic Surgeon needed 1 hour from Dallas, TX - The #hospital north-central Texas covering a 50-mile radius and a https://t.co/x1QRHYSN42 #HEALTHCARE\n",
      "Nigeria’s population is estimated to reach 440 million by 2050, less than 5% of the current population is covered by the National Health Insurance Scheme (NHIS). We must start to imagine Nigeria with a different #healthcare future.\n",
      "#NMAAGC2018 #Health4All\n",
      "Hey @jimmykimmel why did you demagogue the national conversation to advocate for socialized healthcare when it came to your son, but you remain shockingly silent when socialized medicine killed Alfie Evans? 🤔\n",
      "The fact that an 11-year-old has to do this for her mother just so she can afford healthcare is not “heartwarming”... it’s a product of the system we live in and it’s despicable. https://t.co/AY9T0BUaES\n",
      "From healthcare to warfare, will robots become our future companions and our future soldiers? Find out May 12 on #saltspring w/ Dr. Lucy Suchman at @ArtSpring01. https://t.co/DMTNQLdg9y https://t.co/t5wRS2znyW\n",
      "The fact that an 11-year-old has to do this for her mother just so she can afford healthcare is not “heartwarming”... it’s a product of the system we live in and it’s despicable. https://t.co/AY9T0BUaES\n",
      "Join the Beebe Healthcare team! See our latest #job opening here: https://t.co/VDIB51HSeo #Lewes, DE #Hiring #CareerArc\n",
      "Tomorrow night! Please join @Indy1stFriends @H4CHP @pfamrx \n",
      "at screening + discussion of Fix It: Healthcare at the Tipping Point  https://t.co/bHmU4SGVVk Thanks @nuvo_net !\n",
      "Join @dassault3ds and Steven Levine at #HLTH2018 on May 6-9 for learning on #simulation and virtual modeling #livingheart #3DEXPERIENCE @3DSNorthAmerica @3DS_SIMULIA https://t.co/qBTVKJCUIi https://t.co/QMqZtC5rl5\n",
      "The fact that an 11-year-old has to do this for her mother just so she can afford healthcare is not “heartwarming”... it’s a product of the system we live in and it’s despicable. https://t.co/AY9T0BUaES\n",
      "Hey @jimmykimmel why did you demagogue the national conversation to advocate for socialized healthcare when it came to your son, but you remain shockingly silent when socialized medicine killed Alfie Evans? 🤔\n",
      "I commend the theme of this @NMANigeria 58th Annual Delegates meeting & Scientific Conference Town Hall “Quality Healthcare delivery – an indicator of good governance” and the stated aim of ensuring that #healthcare is the dominant issue in the political economy.\n",
      "#NMAAGC2018 https://t.co/sN9Cs20eat\n",
      "Make that first crucial step on the ladder to a new career - get qualified with our accredited #Care Certificate course: https://t.co/3GCDr96KqE #Healthcare #Caring https://t.co/ZisJdypzhZ\n",
      "The U.S. spends more on healthcare for capita than any other nation, but our access to care, life expectancy, and infant mortality is so much lower. The solution is there if we just listened: #MedicareforAll\n",
      "Hey @jimmykimmel why did you demagogue the national conversation to advocate for socialized healthcare when it came to your son, but you remain shockingly silent when socialized medicine killed Alfie Evans? 🤔\n",
      "Hey @jimmykimmel why did you demagogue the national conversation to advocate for socialized healthcare when it came to your son, but you remain shockingly silent when socialized medicine killed Alfie Evans? 🤔\n",
      "The fact that an 11-year-old has to do this for her mother just so she can afford healthcare is not “heartwarming”... it’s a product of the system we live in and it’s despicable. https://t.co/AY9T0BUaES\n",
      "I'll still fight them tooth and nail bc determining how and when you have children is a human right and a fundamental freedom, but at least they might have a shred of credibility if they spent any time at all expanding healthcare, raising wages, and extending food assistance.\n",
      "The fact that an 11-year-old has to do this for her mother just so she can afford healthcare is not “heartwarming”... it’s a product of the system we live in and it’s despicable. https://t.co/AY9T0BUaES\n",
      "Recent survey by Wombat Security reveals \n",
      "#healthcare workforce lack an understanding of common security threats‼️\n",
      "\n",
      "https://t.co/qAO2AXEVOp\n",
      "\n",
      "#KnowTheRules #HIPAAKTR #riskmanagement #InfoGov #Compliance #HealthIT #HCCA #AHIMA #CHIME #RSAC #HIMSS #AEHIS #HLTH #SecurityAwareness\n",
      "FICM Fellow and Critical Care Consultant David Selwyn on BBC #Hospital \"By dealing with all the referrals to critical care, in effect I'm trouble shooting the whole of the hospital\" - Critical Care is central to hospital healthcare services https://t.co/0Qjqb2pdTA\n",
      "The fact that an 11-year-old has to do this for her mother just so she can afford healthcare is not “heartwarming”... it’s a product of the system we live in and it’s despicable. https://t.co/AY9T0BUaES\n",
      "The fact that an 11-year-old has to do this for her mother just so she can afford healthcare is not “heartwarming”... it’s a product of the system we live in and it’s despicable. https://t.co/AY9T0BUaES\n",
      "Hey @jimmykimmel why did you demagogue the national conversation to advocate for socialized healthcare when it came to your son, but you remain shockingly silent when socialized medicine killed Alfie Evans? 🤔\n",
      "@quinng_17 @fxzkz @jmmlegal @socializm_ @kathleenroeberg 2/2 extra taxes for more affordable healthcare. The fact that I would have to pay half a million to have my heart work correctly when minimum wage is $7.25 where I live is fuckin horrendous.\n",
      "The fact that an 11-year-old has to do this for her mother just so she can afford healthcare is not “heartwarming”... it’s a product of the system we live in and it’s despicable. https://t.co/AY9T0BUaES\n",
      "\"A #Blockchain-based systems have the potential to reduce or eliminate the friction and costs of current intermediaries.\" | Deloitte US https://t.co/Aq9YxAx3HC via @DeloitteUS @jbarbosapr #healthcare\n",
      "Hey @jimmykimmel why did you demagogue the national conversation to advocate for socialized healthcare when it came to your son, but you remain shockingly silent when socialized medicine killed Alfie Evans? 🤔\n",
      "‘If individuals and teams feel safe and supported it will reduce stress and they will feel enabled and empowered to make better decisions’. We are working alongside @atrainability to offer a one-day masterclass #humanfactorshealthcare https://t.co/1syHrqR96S\n",
      "Fitbit, Google join to push patient-generated data into health records https://t.co/OExYOoi6G6  #healthcare #digitalhealth https://t.co/Tqz4edKrr6\n",
      "Convenience > value > better outcomes. From vision to reality powered by #virtualcaredelivery. Our CEO speaks about the impactful change happening now to tackle healthcare's biggest issues at @HLTHEVENT next week. #HLTH2018 #ptexp https://t.co/anKnHzx4Xq\n",
      "The fact that an 11-year-old has to do this for her mother just so she can afford healthcare is not “heartwarming”... it’s a product of the system we live in and it’s despicable. https://t.co/AY9T0BUaES\n",
      "We cannot afford another fifty years of farmers struggling to make a living, of families without proper sanitation, or of families bankrupted by healthcare costs.  We need change now, in this generation, so that our children grow to adulthood in a totally different Kenya.\n",
      "Hey @jimmykimmel why did you demagogue the national conversation to advocate for socialized healthcare when it came to your son, but you remain shockingly silent when socialized medicine killed Alfie Evans? 🤔\n",
      "Hey @jimmykimmel why did you demagogue the national conversation to advocate for socialized healthcare when it came to your son, but you remain shockingly silent when socialized medicine killed Alfie Evans? 🤔\n",
      "Hey @jimmykimmel why did you demagogue the national conversation to advocate for socialized healthcare when it came to your son, but you remain shockingly silent when socialized medicine killed Alfie Evans? 🤔\n",
      "Great to see that Flemish inspectorate is also present at #mhimprove. Together we work on quality improvement and safety in mental healthcare. @ZorgVlaanderen @ZorgnetIcuro\n",
      "The fact that an 11-year-old has to do this for her mother just so she can afford healthcare is not “heartwarming”... it’s a product of the system we live in and it’s despicable. https://t.co/AY9T0BUaES\n",
      "When one-for-one isn't enough, WELL takes the approach of one-for-many. To find out how you can take part in the global healthcare revolution, join our telegram group at https://t.co/Dfn40qr8su https://t.co/aT4vjdTDm6\n",
      ".@PatrickMcHenry kicks out a constituent advocating for her child while he votes to steal your healthcare.\n",
      "\n",
      "#WeddingWednesday if you vote against someone’s ability to receive healthcare you don’t represent the best interests of your constituents.\n",
      "\n",
      "3/3\n",
      "\n",
      "https://t.co/iN2X2AjAfE\n",
      "The fact that an 11-year-old has to do this for her mother just so she can afford healthcare is not “heartwarming”... it’s a product of the system we live in and it’s despicable. https://t.co/AY9T0BUaES\n",
      "A4: Communication is key between healthcare providers and patients, but 60% of #HCPs did not recommend a single patient for a clinical study in the last year, according to a SERMO survey. What are the barriers? #ctaw2018 https://t.co/UXL1YiHeof\n",
      "Mr Javid is considering requiring asylum seekers to pay taxes for several years before claiming benefits and enjoying non-emergency healthcare. Applicants would also need a 'reasonable mastery of English'. What's unreasonable about these proposals?\n",
      "https://t.co/FjhDIyq9ht\n",
      "2010-2018 Tory cuts for the poorest 95%\n",
      "Schools\n",
      "Healthcare\n",
      "Social Care\n",
      "Roads\n",
      "Police\n",
      "Military\n",
      "Fire Service\n",
      "Border Checks\n",
      "Public Sector Wages\n",
      "Disabilty Benefits\n",
      "Women's Refuge\n",
      "Sure Start Centres\n",
      "\n",
      "2010-2018 Tory cuts for the richest 5%\n",
      "Higher rate tax\n",
      "Corporation tax\n",
      "\n",
      "#VoteLabour\n",
      "Hey @jimmykimmel why did you demagogue the national conversation to advocate for socialized healthcare when it came to your son, but you remain shockingly silent when socialized medicine killed Alfie Evans? 🤔\n",
      "The fact that an 11-year-old has to do this for her mother just so she can afford healthcare is not “heartwarming”... it’s a product of the system we live in and it’s despicable. https://t.co/AY9T0BUaES\n",
      "Rudish Health Solutions: Success Through Synergy from @ES_outlk.  https://t.co/DS3vFiqkiY #leadership #healthcare #executivesearch @RussRudish https://t.co/Dkme8ghs6f\n",
      "“I support single payer healthcare, treatment for those incarcerated. We can do better.” #MO2 candidate Mark Osmack seeks #stlyoungdems endorsement https://t.co/N8igdBIZ1Z\n",
      "Dems, it will be up to us to reverse the $1.5 trillion tax cut ( #taxscam ). It will be up to us to do something about #climatechange and it will be up to us to fix healthcare once and for all. Get ready, its going to be a fight. #NeverEverTrustaRepublican\n",
      "Hey @jimmykimmel why did you demagogue the national conversation to advocate for socialized healthcare when it came to your son, but you remain shockingly silent when socialized medicine killed Alfie Evans? 🤔\n",
      "@Texasjimj Apparently the British healthcare system must be preserved at all cost. https://t.co/ULg6VkqMEw\n",
      "The fact that an 11-year-old has to do this for her mother just so she can afford healthcare is not “heartwarming”... it’s a product of the system we live in and it’s despicable. https://t.co/AY9T0BUaES\n",
      "Dems, it will be up to us to reverse the $1.5 trillion tax cut ( #taxscam ). It will be up to us to do something about #climatechange and it will be up to us to fix healthcare once and for all. Get ready, its going to be a fight. #NeverEverTrustaRepublican\n",
      "🚨YOUR CALLS ARE NEEDED🚨\n",
      "\n",
      "Republicans are attempting to take away health care from the families who need it most\n",
      "\n",
      "https://t.co/RC7MbOpg0P https://t.co/5GfUuydUJ0\n",
      "We cannot afford another fifty years of farmers struggling to make a living, of families without proper sanitation, or of families bankrupted by healthcare costs.  We need change now, in this generation, so that our children grow to adulthood in a totally different Kenya.\n",
      "Hey @jimmykimmel why did you demagogue the national conversation to advocate for socialized healthcare when it came to your son, but you remain shockingly silent when socialized medicine killed Alfie Evans? 🤔\n",
      "The fact that an 11-year-old has to do this for her mother just so she can afford healthcare is not “heartwarming”... it’s a product of the system we live in and it’s despicable. https://t.co/AY9T0BUaES\n",
      "If you haven't see Rundown already, WHA YA DOIN? Get your tickets today!\n",
      "\n",
      "Online: https://t.co/k4e8xrE16R\n",
      "Outlets: Foster's Food Fair (Airport, Strand, Countryside), Funky Tangs, Healthcare Pharmacy Grand Harbour and CNCF Office (Harquail Centre)\n",
      "\n",
      "#Rundown #CaymanCulture #CNCF https://t.co/rImRhgqJFN\n"
     ]
    }
   ],
   "source": [
    "# Retweets cause problems with incomplete/truncated text and also the RT keyword. So we will focus only on original status\n",
    "for tweet in tweets:\n",
    "    if hasattr(tweet,\"retweeted_status\"):\n",
    "        print(html.unescape(tweet.retweeted_status.full_text))\n",
    "    else:\n",
    "        print(html.unescape(tweet.full_text))"
   ]
  },
  {
   "cell_type": "markdown",
   "metadata": {},
   "source": [
    "## Basic Sentiment Analysis Trial\n",
    "- install textblob using : _pip install textblob_\n",
    "- install nltk using : _pip install nltk_\n",
    "- download nltk resources on first run : _nltk.download()_\n",
    "- suggest downloading all resources on first run to avoid issues later"
   ]
  },
  {
   "cell_type": "code",
   "execution_count": 104,
   "metadata": {},
   "outputs": [],
   "source": [
    "from textblob import TextBlob"
   ]
  },
  {
   "cell_type": "code",
   "execution_count": 106,
   "metadata": {},
   "outputs": [
    {
     "data": {
      "text/plain": [
       "Sentiment(polarity=0.5, subjectivity=0.5)"
      ]
     },
     "execution_count": 106,
     "metadata": {},
     "output_type": "execute_result"
    }
   ],
   "source": [
    "analyticBlob = TextBlob(tweets[2].retweeted_status.full_text)\n",
    "analyticBlob.sentiment"
   ]
  },
  {
   "cell_type": "code",
   "execution_count": null,
   "metadata": {},
   "outputs": [],
   "source": []
  }
 ],
 "metadata": {
  "kernelspec": {
   "display_name": "Python 3",
   "language": "python",
   "name": "python3"
  },
  "language_info": {
   "codemirror_mode": {
    "name": "ipython",
    "version": 3
   },
   "file_extension": ".py",
   "mimetype": "text/x-python",
   "name": "python",
   "nbconvert_exporter": "python",
   "pygments_lexer": "ipython3",
   "version": "3.6.4"
  }
 },
 "nbformat": 4,
 "nbformat_minor": 2
}
